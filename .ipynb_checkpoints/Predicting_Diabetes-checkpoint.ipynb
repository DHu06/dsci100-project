{
 "cells": [
  {
   "cell_type": "markdown",
   "id": "377d30e8-da93-448b-9cc9-fe871190655b",
   "metadata": {},
   "source": [
    "Group Project\n",
    "Students will work together in groups to complete a Data Science project from the beginning (downloading data from the web) to the end (communicating their methods and conclusions in an electronic report). The electronic report will be a Jupyter notebook in which the code cells will download a dataset (chosen from the list of options below) from the web, reproducibly and sensibly wrangle and clean, summarize and visualize the data, as well as appropriately answer a predictive question. Markdown cells will be used throughout the document to narrate the analysis to communicates the question asked, methods used and the conclusion reached.\n",
    "\n",
    "\n",
    "For this project, you will need to formulate and answer a predictive question about a dataset of your choice using either classification or regression. Below we list some suggested data sets, however, we encourage bring your own dataset from elsewhere (e.g. Wikipedia, Kaggle, etc) as long as you get the dataset approved by your group's TA. Note that you are not allowed to pick a dataset that we have already used during lecture or in one of the assignments.cqweqweq\n",
    "\n"
   ]
  },
  {
   "cell_type": "code",
   "execution_count": null,
   "id": "bd85c175-3b2e-4261-badc-0bdc7a1118a1",
   "metadata": {},
   "outputs": [],
   "source": []
  }
 ],
 "metadata": {
  "kernelspec": {
   "display_name": "R",
   "language": "R",
   "name": "ir"
  },
  "language_info": {
   "codemirror_mode": "r",
   "file_extension": ".r",
   "mimetype": "text/x-r-source",
   "name": "R",
   "pygments_lexer": "r",
   "version": "4.2.2"
  }
 },
 "nbformat": 4,
 "nbformat_minor": 5
}
